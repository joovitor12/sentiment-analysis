{
 "cells": [
  {
   "cell_type": "code",
   "execution_count": 1,
   "metadata": {},
   "outputs": [
    {
     "name": "stderr",
     "output_type": "stream",
     "text": [
      "[nltk_data] Downloading package punkt to\n",
      "[nltk_data]     C:\\Users\\j-vit\\AppData\\Roaming\\nltk_data...\n",
      "[nltk_data]   Package punkt is already up-to-date!\n",
      "[nltk_data] Downloading package stopwords to\n",
      "[nltk_data]     C:\\Users\\j-vit\\AppData\\Roaming\\nltk_data...\n",
      "[nltk_data]   Package stopwords is already up-to-date!\n"
     ]
    },
    {
     "name": "stdout",
     "output_type": "stream",
     "text": [
      "['Useless space', 'fix', 'Left one space decor', \"> cuming Yeah , 'd doubt 'll put Christmas stuff Linux .\", 'bruh', 'wth bruh', 'bruh', 'bruh', 'bruh', 'bruh', 'bruh', 'bruh', 'changed ` Kernel vibe check `', 'take look', 'bruh']\n"
     ]
    }
   ],
   "source": [
    "from nltk.sentiment import SentimentIntensityAnalyzer\n",
    "import matplotlib.pyplot as plt\n",
    "import get_comments as gc"
   ]
  },
  {
   "cell_type": "code",
   "execution_count": 2,
   "metadata": {},
   "outputs": [
    {
     "name": "stderr",
     "output_type": "stream",
     "text": [
      "[nltk_data] Downloading package punkt to\n",
      "[nltk_data]     C:\\Users\\j-vit\\AppData\\Roaming\\nltk_data...\n",
      "[nltk_data]   Package punkt is already up-to-date!\n",
      "[nltk_data] Downloading package stopwords to\n",
      "[nltk_data]     C:\\Users\\j-vit\\AppData\\Roaming\\nltk_data...\n",
      "[nltk_data]   Package stopwords is already up-to-date!\n"
     ]
    },
    {
     "name": "stdout",
     "output_type": "stream",
     "text": [
      "Comment ->  // Unpack ...\n",
      "Comment ->  unpack_op\n",
      "Comment ->  Done 426da7692807fbc20f1409038a0dd95750850561\n",
      "Comment ->  Done 426da7692807fbc20f1409038a0dd95750850561\n",
      "Comment ->  need add dependency BUILD file math_grad\n",
      "Comment ->  need add dependency BUILD file embedding_ops\n",
      "Comment ->  Done\n",
      "Comment ->  Done\n",
      "Comment ->  Thanks\n",
      "Comment ->  tests failing line . `` ` TypeError : Converting ShardedVariable tensor embedding lookup ops disallowed . `` ` example , ` //tensorflow/python/distribute : sharded_variable_test `\n",
      "Comment ->  Pass OpDescriptor const reference\n",
      "Comment ->  n't think need braces ` { ... } ` ? GetUserUIDs .\n",
      "Comment ->  uid user_uids_ , right ? , return error 's already user_uids well , otherwise seems like uid allowed user_uids_ point\n",
      "Comment ->  Instead checking ` uids_ ` , check ` user_uids_ ` , since ID ` uids_ ` 's ` user_uids_ ` . n't think need ` uids_ ` field .\n",
      "Comment ->  think reads colon well . Replace ` - pos ` ` - pos - 1 ` .\n",
      "Comment ->  semicolon guaranteed pos + 1 . Return error case .\n",
      "Comment ->  used much later block . Move forward closer used .\n",
      "Comment ->  need nest if-statements . `` ` c++ ( is_operand ) { return operand_uids.emplace_back ( next_uid ) ; } else ( is_virtual ) { return virtual_uids.emplace_back ( next_uid ) ; } else { return output_uids.emplace_back ( next_uid ) ; } `` ` Also DCHECK ` ! ( is_operand & & is_virtual ) `\n",
      "Comment ->  recursion necessary case ? think simply iterating sequentially UIDs OpGraph cleaner . , n't store maps OpGraph : simply need list OpDescriptors corresponding UID ( probably UID field OpDescriptor case ) .\n",
      "Comment ->  Pass OpGraph const reference\n",
      "Comment ->  Document refers kind second operand .\n",
      "Comment ->  would change format allow one operand . ops like scale , already implicitly assume second operand input graph .\n",
      "Comment ->  match statement getting long . Create MultiplyOrDivide predicate file n't repeat nested predicates Divide MultiplyAnyOrder .\n",
      "Comment ->  Initialize wide_input wide_filter nullptr . otherwise undefined behavior pass CaptureConvGraph , even though CaptureConvGraph uses end initialized .\n",
      "Comment ->  code existed , add helper functions like ` IsSaturatingCastFromF8E4M3FN ` ` IsSaturatingCastFromF8E5M2 ` ? two nested if-statements turned single if-statement ` ( IsSaturatingCastFromF8E4M3FN ( users_user ) || IsSaturatingCastFromF8E5M2 ( users_user ) ` . perhaps single ` IsSaturatingCastFromF8 ` function added .\n",
      "Comment ->  Add TODO support case Abs reduction follows relu , done gemm_rewriter\n",
      "Comment ->  check operand ( 1 ) constant op scalar . Also , would good helper function match amax would shared cudnn_fused_conv_rewriter.cc gemm_rewriter.cc . perhaps create ` f8_utils.cc ` file put .\n",
      "Comment ->  n't catch last PR , check convolution custom call .\n",
      "Comment ->  support arbitrary graph structures , return single non-amax output , stored ` final_instr ` . two non-amax roots tree ( root op without users GraphString ) , second stored ` final_instr ` , cause issues call cudnn . would iterate linearly , done PR . op , check optional amax . Also multiple amaxes supported ? , return one amax instead vector .\n",
      "Comment ->  think FP8 logic moved pass file , since 's independent non-FP8 logic , FP8 logic fairly long substantial , uses currently-FP8-specific concept GraphString done separate PR though . 'm fine done PR .\n",
      "Comment ->  Instead inserting conv output workspace buffer , inserting aux output , would insert conv output , aux outputs , workspace buffer .\n",
      "Comment ->  original code still careful package convolution output tuple second element empty tensor ( see line 1072 original code ) . assume 's possible instruction uses empty tensor . keep code , even though update custom call place instead creating new one .\n",
      "Comment ->  would check last first elements rank zero . get rid for-loops added change layout outputs Admittedly , trouble understanding file would take long time understand verify changes made , especially hypothetical non-scalar second output . Still , think changing layout first element makes things simpler .\n",
      "Comment ->  avoid replacing custom call identical copy , n't logic ?\n",
      "Comment ->  supported .\n",
      "Comment ->  ’ right current limitations . functionality eventually extended support general graphs though . Multiple amaxes may meaningful could ops additional output .\n",
      "Comment ->  last element tuple workspace . current original implementation preserve shapes tuple elements , make compatible .\n",
      "Comment ->  generalize graph convolutions , result tensor may longer first element tuple . workspace remain final element though .\n",
      "Comment ->  Custom Call returns tuple , replacing instruction identical copy cause layout normalization run endless loop .\n",
      "Comment ->  DCHECK value present\n",
      "Comment ->  ` ` seems superfluous , mean error ? ( comment function 's ifs )\n",
      "Comment ->  ugly hack ignore return value -- substituted ` IgnoreError `\n",
      "Comment ->  Given still involve generating ` tosa ` operations , let 's including basic ` TFLToTosaPatterns ` , include separate group comment . used ` tensor ` operations ( e.g . ` tfl.shape ` ) would make sense separately , given use ` tosa.gather ` much benefits . assume user want ` tensor.dim ` exists inform matching ` tosa ` operation yet .\n",
      "Comment ->  Match name style helpers . appear ` thisIsTheFunctionName ` .\n",
      "Comment ->  Given multiplies numbers together , drop init always use first value . value wish scale post apply use .\n",
      "Comment ->  Look making ` ImplicitLocOpBuilder ` . allows pass ` OpBuilder ` around matches ` Location ` correctly .\n",
      "Comment ->  Given implementation one line would inline .\n",
      "Comment ->  helper .\n",
      "Comment ->  Ditto .\n",
      "Comment ->  ` Simpler approach ` getElementTypeOrSelf ( value.getType ( ) ) `\n",
      "Comment ->  Variable names ` camelCase ` .\n",
      "Comment ->  would n't bother including ` tosaOnly ` case . Given functionality issue ` tosa ` ` tosa ` ` tensor ` , users specify ` tensor ` illegal expected dialect fail .\n",
      "Comment ->  would outline ` llvm : :ArrayRef ` ` slice ` outside line . good choice , outlining would make clear .\n",
      "Comment ->  would avoid failure case . might well convert ` tensor : :Reshape `\n",
      "Comment ->  Lets make ` build_reshape ` always return value way check-bail construction .\n",
      "Comment ->  Avoid construction check-fails throughout . pattern rewriters often fail confusing ways construct larger number results ` return failure ( ) ` . Instead validate case correct , perform constructions values look correct .\n",
      "Comment ->  've chosen rename function something little understandable . 'd like keep function used directly functor ` map_to_vector ` across multiple functions .\n",
      "Comment ->  failure cases disappear suggested fixes .\n",
      "Comment ->  obvious ` ImplicitLocOpBuilder ` preserves desired behaviors , since subclass ` OpBuilder ` builders typically starting ` PatternRewriter ` . think using ` ImplicitLocOpBuilder ` may lose logging mechanisms associated rewriter classes .\n",
      "Total Compound ->  4.794399999999999\n",
      "Total Positive ->  8.644\n",
      "Total Negative ->  3.8979999999999997\n",
      "Total Neutral ->  46.457\n"
     ]
    },
    {
     "data": {
      "image/png": "[encoded data removed]",
      "text/plain": [
       "<Figure size 640x480 with 1 Axes>"
      ]
     },
     "metadata": {},
     "output_type": "display_data"
    }
   ],
   "source": [
    "owner = 'tensorflow'\n",
    "repo = 'tensorflow'\n",
    "\n",
    "pr_comments = gc.get_comments(owner, repo)\n",
    "\n",
    "total_compound = 0\n",
    "total_positive = 0\n",
    "total_negative = 0\n",
    "total_neutral = 0\n",
    "\n",
    "for pr_comment in pr_comments:\n",
    "    sia = SentimentIntensityAnalyzer()\n",
    "    sentiment = sia.polarity_scores(pr_comment)\n",
    "    sentiment_compound = sentiment['compound']\n",
    "    sentiment_positive = sentiment['pos']\n",
    "    sentiment_negative = sentiment['neg']\n",
    "    sentiment_neutral = sentiment['neu']\n",
    "    total_compound += sentiment_compound\n",
    "    total_positive += sentiment_positive\n",
    "    total_negative += sentiment_negative\n",
    "    total_neutral += sentiment_neutral\n",
    "    print('Comment -> ', pr_comment)\n",
    "\n",
    "print('Total Compound -> ', total_compound)\n",
    "print('Total Positive -> ', total_positive)\n",
    "print('Total Negative -> ', total_negative)\n",
    "print('Total Neutral -> ', total_neutral)\n",
    "\n",
    "labels = ['Positive','Neutral','Negative', 'Compound']\t\n",
    "scores = [total_positive,total_neutral ,total_negative, total_compound]\t\n",
    "\n",
    "plt.bar(labels, scores)\n",
    "plt.ylabel('Scores')\n",
    "plt.title('Sentiment Analysis of PR Comments - Tensorflow')\n",
    "plt.show()\n",
    "\n"
   ]
  }
 ],
 "metadata": {
  "kernelspec": {
   "display_name": "Python 3",
   "language": "python",
   "name": "python3"
  },
  "language_info": {
   "codemirror_mode": {
    "name": "ipython",
    "version": 3
   },
   "file_extension": ".py",
   "mimetype": "text/x-python",
   "name": "python",
   "nbconvert_exporter": "python",
   "pygments_lexer": "ipython3",
   "version": "3.8.8"
  },
  "orig_nbformat": 4
 },
 "nbformat": 4,
 "nbformat_minor": 2
}
