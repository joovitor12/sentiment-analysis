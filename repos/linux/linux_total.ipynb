{
 "cells": [
  {
   "cell_type": "code",
   "execution_count": 2,
   "metadata": {},
   "outputs": [
    {
     "name": "stderr",
     "output_type": "stream",
     "text": [
      "[nltk_data] Downloading package punkt to\n",
      "[nltk_data]     /home/joao.machado/nltk_data...\n",
      "[nltk_data]   Package punkt is already up-to-date!\n",
      "[nltk_data] Downloading package stopwords to\n",
      "[nltk_data]     /home/joao.machado/nltk_data...\n",
      "[nltk_data]   Package stopwords is already up-to-date!\n"
     ]
    },
    {
     "name": "stdout",
     "output_type": "stream",
     "text": [
      "['Useless space', 'fix', 'Left one space decor', \"> cuming Yeah , 'd doubt 'll put Christmas stuff Linux .\", 'bruh', 'wth bruh', 'bruh', 'bruh', 'bruh', 'bruh', 'bruh', 'bruh', 'changed ` Kernel vibe check `', 'take look', 'bruh']\n"
     ]
    }
   ],
   "source": [
    "import matplotlib.pyplot as plt\n",
    "import nltk\n",
    "from nltk.sentiment.vader import SentimentIntensityAnalyzer\n",
    "import sys\n",
    "import get_comments as gc\n",
    "\n"
   ]
  },
  {
   "cell_type": "code",
   "execution_count": 3,
   "metadata": {},
   "outputs": [
    {
     "name": "stderr",
     "output_type": "stream",
     "text": [
      "[nltk_data] Downloading package punkt to\n",
      "[nltk_data]     /home/joao.machado/nltk_data...\n",
      "[nltk_data]   Package punkt is already up-to-date!\n",
      "[nltk_data] Downloading package stopwords to\n",
      "[nltk_data]     /home/joao.machado/nltk_data...\n",
      "[nltk_data]   Package stopwords is already up-to-date!\n"
     ]
    },
    {
     "name": "stdout",
     "output_type": "stream",
     "text": [
      "Comment ->  Useless space\n",
      "Comment ->  fix\n",
      "Comment ->  Left one space decor\n",
      "Comment ->  > cuming Yeah , 'd doubt 'll put Christmas stuff Linux .\n",
      "Comment ->  bruh\n",
      "Comment ->  wth bruh\n",
      "Comment ->  bruh\n",
      "Comment ->  bruh\n",
      "Comment ->  bruh\n",
      "Comment ->  bruh\n",
      "Comment ->  bruh\n",
      "Comment ->  bruh\n",
      "Comment ->  changed ` Kernel vibe check `\n",
      "Comment ->  take look\n",
      "Comment ->  bruh\n",
      "Total Compound ->  -1.0253999999999999\n",
      "Total Positive ->  0.188\n",
      "Total Negative ->  1.724\n",
      "Total Neutral ->  13.088000000000001\n"
     ]
    },
    {
     "data": {
      "image/png": "[encoded data removed]",
      "text/plain": [
       "<Figure size 640x480 with 1 Axes>"
      ]
     },
     "metadata": {},
     "output_type": "display_data"
    }
   ],
   "source": [
    "\n",
    "\n",
    "owner = 'torvalds'\n",
    "repo = 'linux'\n",
    "\n",
    "pr_comments = gc.get_comments(owner, repo)\n",
    "\n",
    "sia = SentimentIntensityAnalyzer()\n",
    "\n",
    "total_compound = 0\n",
    "total_positive = 0\n",
    "total_negative = 0\n",
    "total_neutral = 0\n",
    "\n",
    "for pr_comment in pr_comments:\n",
    "    sentiment = sia.polarity_scores(pr_comment)\n",
    "    sentiment_compound = sentiment['compound']\n",
    "    sentiment_positive = sentiment['pos']\n",
    "    sentiment_negative = sentiment['neg']\n",
    "    sentiment_neutral = sentiment['neu']\n",
    "    total_compound += sentiment_compound\n",
    "    total_positive += sentiment_positive\n",
    "    total_negative += sentiment_negative\n",
    "    total_neutral += sentiment_neutral\n",
    "    print('Comment -> ', pr_comment)\n",
    "\n",
    "print('Total Compound -> ', total_compound)\n",
    "print('Total Positive -> ', total_positive)\n",
    "print('Total Negative -> ', total_negative)\n",
    "print('Total Neutral -> ', total_neutral)\n",
    "\n",
    "labels = ['Positive', 'Neutral', 'Negative', 'Compound']\n",
    "scores = [total_positive, total_neutral, total_negative, total_compound]\n",
    "\n",
    "plt.bar(labels, scores)\n",
    "plt.ylabel('Scores')\n",
    "plt.title('Sentiment Analysis of PR Comments - Linux')\n",
    "plt.show()\n"
   ]
  }
 ],
 "metadata": {
  "kernelspec": {
   "display_name": "Python 3.10.12 64-bit",
   "language": "python",
   "name": "python3"
  },
  "language_info": {
   "codemirror_mode": {
    "name": "ipython",
    "version": 3
   },
   "file_extension": ".py",
   "mimetype": "text/x-python",
   "name": "python",
   "nbconvert_exporter": "python",
   "pygments_lexer": "ipython3",
   "version": "3.10.12"
  },
  "orig_nbformat": 4,
  "vscode": {
   "interpreter": {
    "hash": "916dbcbb3f70747c44a77c7bcd40155683ae19c65e1c03b4aa3499c5328201f1"
   }
  }
 },
 "nbformat": 4,
 "nbformat_minor": 2
}
