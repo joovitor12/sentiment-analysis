{
 "cells": [
  {
   "cell_type": "code",
   "execution_count": 7,
   "metadata": {},
   "outputs": [
    {
     "data": {
      "text/plain": [
       "True"
      ]
     },
     "execution_count": 7,
     "metadata": {},
     "output_type": "execute_result"
    }
   ],
   "source": [
    "import requests\n",
    "from nltk.sentiment import SentimentIntensityAnalyzer\n",
    "import matplotlib.pyplot as plt\n",
    "from dotenv import load_dotenv\n",
    "from nltk.corpus import stopwords\n",
    "from nltk.tokenize import word_tokenize\n",
    "import nltk\n",
    "import os\n",
    "\n",
    "\n",
    "load_dotenv()"
   ]
  },
  {
   "cell_type": "code",
   "execution_count": 8,
   "metadata": {},
   "outputs": [],
   "source": [
    "owner = 'torvalds'\n",
    "repo = 'linux'\n",
    "token = os.getenv('github_token')\n"
   ]
  },
  {
   "cell_type": "code",
   "execution_count": 9,
   "metadata": {},
   "outputs": [
    {
     "name": "stdout",
     "output_type": "stream",
     "text": [
      "0 765\n",
      "1 753\n"
     ]
    }
   ],
   "source": [
    "url_to_get_prs_number = f'https://api.github.com/repos/{owner}/{repo}/pulls?q=mergeable:conflicting'\n",
    "headers = {'Authorization': f'token {token}'}\n",
    "response = requests.get(url_to_get_prs_number, headers=headers)\n",
    "prs = response.json()\n",
    "pr_with_comments = []\n",
    "\n",
    "for pr_number in prs:\n",
    "    url_to_get_pr_comments = f'https://api.github.com/repos/{owner}/{repo}/pulls/{pr_number[\"number\"]}/comments'\n",
    "    response = requests.get(url_to_get_pr_comments, headers=headers)\n",
    "    pr_comments = response.json()\n",
    "    \n",
    "    if pr_comments: \n",
    "        pr_with_comments.append(pr_number[\"number\"])\n",
    "\n",
    "for index, pr_number in enumerate(pr_with_comments):\n",
    "    print(index, pr_number)\n",
    "\n"
   ]
  },
  {
   "cell_type": "markdown",
   "metadata": {},
   "source": [
    "COMMENTS WITH STOPWORDS REMOVED"
   ]
  },
  {
   "cell_type": "code",
   "execution_count": 19,
   "metadata": {},
   "outputs": [
    {
     "name": "stdout",
     "output_type": "stream",
     "text": [
      "['Useless space', 'fix', 'Left one space decor', \"> cuming Yeah , 'd doubt 'll put Christmas stuff Linux .\"]\n"
     ]
    },
    {
     "name": "stderr",
     "output_type": "stream",
     "text": [
      "[nltk_data] Downloading package punkt to\n",
      "[nltk_data]     /home/joao.machado/nltk_data...\n",
      "[nltk_data]   Package punkt is already up-to-date!\n",
      "[nltk_data] Downloading package stopwords to\n",
      "[nltk_data]     /home/joao.machado/nltk_data...\n",
      "[nltk_data]   Package stopwords is already up-to-date!\n"
     ]
    }
   ],
   "source": [
    "url_to_get_pr_comments = f'https://api.github.com/repos/{owner}/{repo}/pulls/{pr_with_comments[0]}/comments'\n",
    "\n",
    "headers = {'Authorization': f'token {token}'}\n",
    "\n",
    "response = requests.get(url_to_get_pr_comments, headers=headers)\n",
    "\n",
    "prs = response.json()\n",
    "\n",
    "bodies = [comment['body'] for comment in prs]\n",
    "\n",
    "nltk.download('punkt')\n",
    "nltk.download('stopwords')\n",
    "stop_words = set(stopwords.words('english'))\n",
    "\n",
    "all_comments = []\n",
    "cleaned_bodies = []\n",
    "\n",
    "for body in bodies:\n",
    "    cleaned_words = [word for word in word_tokenize(body) if word.lower() not in stop_words]\n",
    "    cleaned_comment = ' '.join(cleaned_words)  \n",
    "    cleaned_bodies.append(cleaned_comment)  \n",
    "    all_comments.extend(cleaned_words)\n",
    "\n",
    "print(cleaned_bodies)"
   ]
  },
  {
   "cell_type": "markdown",
   "metadata": {},
   "source": [
    "COMMENTS WITHOUT STOPWORDS REMOVED"
   ]
  },
  {
   "cell_type": "code",
   "execution_count": 20,
   "metadata": {},
   "outputs": [
    {
     "name": "stdout",
     "output_type": "stream",
     "text": [
      "['Useless space', 'Will fix it', 'Left one space for decor ', \"> cuming\\r\\n\\r\\nYeah, i'd doubt they'll put Christmas stuff in Linux.\"]\n"
     ]
    }
   ],
   "source": [
    "url_to_get_pr_comments = f'https://api.github.com/repos/{owner}/{repo}/pulls/{pr_with_comments[0]}/comments'\n",
    "\n",
    "headers = {'Authorization': f'token {token}'}\n",
    "\n",
    "response = requests.get(url_to_get_pr_comments, headers=headers)\n",
    "\n",
    "prs = response.json()\n",
    "\n",
    "bodies = [comment['body'] for comment in prs]\n",
    "\n",
    "print(bodies)"
   ]
  },
  {
   "cell_type": "code",
   "execution_count": 21,
   "metadata": {},
   "outputs": [
    {
     "name": "stdout",
     "output_type": "stream",
     "text": [
      "Comment ->  Useless space\n",
      "Sentiment ->  {'neg': 0.737, 'neu': 0.263, 'pos': 0.0, 'compound': -0.4215}\n",
      "-----------------------\n",
      "Comment ->  Will fix it\n",
      "Sentiment ->  {'neg': 0.0, 'neu': 1.0, 'pos': 0.0, 'compound': 0.0}\n",
      "-----------------------\n",
      "Comment ->  Left one space for decor \n",
      "Sentiment ->  {'neg': 0.0, 'neu': 1.0, 'pos': 0.0, 'compound': 0.0}\n",
      "-----------------------\n",
      "Comment ->  > cuming\n",
      "\n",
      "Yeah, i'd doubt they'll put Christmas stuff in Linux.\n",
      "Sentiment ->  {'neg': 0.197, 'neu': 0.63, 'pos': 0.173, 'compound': -0.0772}\n",
      "-----------------------\n"
     ]
    }
   ],
   "source": [
    "url_to_get_pr_comments = f'https://api.github.com/repos/{owner}/{repo}/pulls/{pr_with_comments[0]}/comments'\n",
    "\n",
    "headers = {'Authorization': f'token {token}'}\n",
    "\n",
    "\n",
    "response = requests.get(url_to_get_pr_comments, headers=None)\n",
    "\n",
    "prs = response.json()\n",
    "\n",
    "pr_comments = [pr_comment['body'] for pr_comment in prs]\n",
    "\n",
    "total_neutral = 0\n",
    "total_positive = 0\n",
    "total_negative = 0\n",
    "total_compound = 0\n",
    "\n",
    "for pr_comment in pr_comments:\n",
    "    sia = SentimentIntensityAnalyzer()\n",
    "    sentiment = sia.polarity_scores(pr_comment)\n",
    "    sentiment_neutral = sentiment['neu']\n",
    "    sentiment_positive = sentiment['pos']\n",
    "    sentiment_negative = sentiment['neg']\n",
    "    sentiment_compound = sentiment['compound']\n",
    "    total_neutral += sentiment_neutral\n",
    "    total_positive += sentiment_positive\n",
    "    total_negative += sentiment_negative\n",
    "    total_compound += sentiment_compound\n",
    "    print('Comment -> ', pr_comment)\n",
    "    print('Sentiment -> ', sentiment)\n",
    "    print('-----------------------')"
   ]
  },
  {
   "cell_type": "code",
   "execution_count": 17,
   "metadata": {},
   "outputs": [
    {
     "name": "stdout",
     "output_type": "stream",
     "text": [
      "Total Neutral ->  2.893\n",
      "Total Positive ->  0.173\n",
      "Total Negative ->  0.9339999999999999\n",
      "Total Compound ->  -0.4987\n"
     ]
    },
    {
     "data": {
      "image/png": "[encoded data removed]",
      "text/plain": [
       "<Figure size 640x480 with 1 Axes>"
      ]
     },
     "metadata": {},
     "output_type": "display_data"
    }
   ],
   "source": [
    "print('Total Neutral -> ', total_neutral)\n",
    "print('Total Positive -> ', total_positive)\n",
    "print('Total Negative -> ', total_negative)\n",
    "print('Total Compound -> ', total_compound)\n",
    "\n",
    "labels = ['Positive', 'Negative', 'Neutral']\t\n",
    "scores = [total_positive, total_negative, total_neutral]\t\n",
    "\n",
    "plt.bar(labels, scores)\n",
    "plt.ylabel('Scores')\n",
    "plt.title('Sentiment Analysis of PR Comments')\n",
    "plt.show()"
   ]
  }
 ],
 "metadata": {
  "kernelspec": {
   "display_name": "Python 3.10.12 64-bit",
   "language": "python",
   "name": "python3"
  },
  "language_info": {
   "codemirror_mode": {
    "name": "ipython",
    "version": 3
   },
   "file_extension": ".py",
   "mimetype": "text/x-python",
   "name": "python",
   "nbconvert_exporter": "python",
   "pygments_lexer": "ipython3",
   "version": "3.10.12"
  },
  "orig_nbformat": 4,
  "vscode": {
   "interpreter": {
    "hash": "916dbcbb3f70747c44a77c7bcd40155683ae19c65e1c03b4aa3499c5328201f1"
   }
  }
 },
 "nbformat": 4,
 "nbformat_minor": 2
}
