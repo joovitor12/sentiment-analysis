{
 "cells": [
  {
   "cell_type": "markdown",
   "metadata": {},
   "source": [
    "Importing libraries"
   ]
  },
  {
   "cell_type": "code",
   "execution_count": 3,
   "metadata": {},
   "outputs": [],
   "source": [
    "import matplotlib.pyplot as plt\n",
    "import get_comments as gc\n",
    "import nltk\n",
    "from nltk.sentiment.vader import SentimentIntensityAnalyzer\n"
   ]
  },
  {
   "cell_type": "markdown",
   "metadata": {},
   "source": [
    "Most used language: C++"
   ]
  },
  {
   "cell_type": "code",
   "execution_count": 4,
   "metadata": {},
   "outputs": [
    {
     "name": "stderr",
     "output_type": "stream",
     "text": [
      "[nltk_data] Downloading package punkt to\n",
      "[nltk_data]     /home/joao.machado/nltk_data...\n",
      "[nltk_data]   Package punkt is already up-to-date!\n",
      "[nltk_data] Downloading package stopwords to\n",
      "[nltk_data]     /home/joao.machado/nltk_data...\n",
      "[nltk_data]   Package stopwords is already up-to-date!\n"
     ]
    },
    {
     "name": "stdout",
     "output_type": "stream",
     "text": [
      "Comment ->  // Unpack ...\n",
      "Comment ->  unpack_op\n",
      "Comment ->  Done 426da7692807fbc20f1409038a0dd95750850561\n",
      "Comment ->  Done 426da7692807fbc20f1409038a0dd95750850561\n",
      "Comment ->  need add dependency BUILD file math_grad\n",
      "Comment ->  need add dependency BUILD file embedding_ops\n",
      "Comment ->  Done\n",
      "Comment ->  Done\n",
      "Comment ->  Thanks\n",
      "Comment ->  tests failing line . `` ` TypeError : Converting ShardedVariable tensor embedding lookup ops disallowed . `` ` example , ` //tensorflow/python/distribute : sharded_variable_test `\n",
      "Comment ->  ` ` seems superfluous , mean error ? ( comment function 's ifs )\n",
      "Comment ->  ugly hack ignore return value -- substituted ` IgnoreError `\n",
      "Comment ->  Given still involve generating ` tosa ` operations , let 's including basic ` TFLToTosaPatterns ` , include separate group comment . used ` tensor ` operations ( e.g . ` tfl.shape ` ) would make sense separately , given use ` tosa.gather ` much benefits . assume user want ` tensor.dim ` exists inform matching ` tosa ` operation yet .\n",
      "Comment ->  Match name style helpers . appear ` thisIsTheFunctionName ` .\n",
      "Comment ->  Given multiplies numbers together , drop init always use first value . value wish scale post apply use .\n",
      "Comment ->  Look making ` ImplicitLocOpBuilder ` . allows pass ` OpBuilder ` around matches ` Location ` correctly .\n",
      "Comment ->  Given implementation one line would inline .\n",
      "Comment ->  helper .\n",
      "Comment ->  Ditto .\n",
      "Comment ->  ` Simpler approach ` getElementTypeOrSelf ( value.getType ( ) ) `\n",
      "Comment ->  Variable names ` camelCase ` .\n",
      "Comment ->  would n't bother including ` tosaOnly ` case . Given functionality issue ` tosa ` ` tosa ` ` tensor ` , users specify ` tensor ` illegal expected dialect fail .\n",
      "Comment ->  would outline ` llvm : :ArrayRef ` ` slice ` outside line . good choice , outlining would make clear .\n",
      "Comment ->  would avoid failure case . might well convert ` tensor : :Reshape `\n",
      "Comment ->  Lets make ` build_reshape ` always return value way check-bail construction .\n",
      "Comment ->  Avoid construction check-fails throughout . pattern rewriters often fail confusing ways construct larger number results ` return failure ( ) ` . Instead validate case correct , perform constructions values look correct .\n",
      "Comment ->  've chosen rename function something little understandable . 'd like keep function used directly functor ` map_to_vector ` across multiple functions .\n",
      "Comment ->  failure cases disappear suggested fixes .\n",
      "Comment ->  obvious ` ImplicitLocOpBuilder ` preserves desired behaviors , since subclass ` OpBuilder ` builders typically starting ` PatternRewriter ` . think using ` ImplicitLocOpBuilder ` may lose logging mechanisms associated rewriter classes .\n",
      "Total Compound ->  -0.6711999999999998\n",
      "Total Positive ->  4.104\n",
      "Total Negative ->  2.7310000000000003\n",
      "Total Neutral ->  22.163999999999998\n"
     ]
    },
    {
     "data": {
      "image/png": "[encoded data removed]",
      "text/plain": [
       "<Figure size 640x480 with 1 Axes>"
      ]
     },
     "metadata": {},
     "output_type": "display_data"
    }
   ],
   "source": [
    "owner = 'tensorflow'\n",
    "repo = 'tensorflow'\n",
    "\n",
    "pr_comments = gc.get_comments(owner, repo)\n",
    "\n",
    "total_compound = 0\n",
    "total_positive = 0\n",
    "total_negative = 0\n",
    "total_neutral = 0\n",
    "\n",
    "for pr_comment in pr_comments:\n",
    "    sia = SentimentIntensityAnalyzer()\n",
    "    sentiment = sia.polarity_scores(pr_comment)\n",
    "    sentiment_positive = sentiment['pos']\n",
    "    sentiment_negative = sentiment['neg']\n",
    "    sentiment_neutral = sentiment['neu']\n",
    "    total_positive += sentiment_positive\n",
    "    total_negative += sentiment_negative\n",
    "    total_neutral += sentiment_neutral\n",
    "    print('Comment -> ', pr_comment)\n",
    "\n",
    "print('Total Positive -> ', total_positive)\n",
    "print('Total Negative -> ', total_negative)\n",
    "print('Total Neutral -> ', total_neutral)\n",
    "\n",
    "labels = ['Positive','Neutral','Negative']\t\n",
    "scores = [total_positive,total_neutral ,total_negative]\t\n",
    "\n",
    "plt.bar(labels, scores)\n",
    "plt.ylabel('Scores')\n",
    "plt.title('Sentiment Analysis of PR Comments - Tensorflow')\n",
    "plt.show()\n",
    "\n"
   ]
  }
 ],
 "metadata": {
  "kernelspec": {
   "display_name": "Python 3.10.12 64-bit",
   "language": "python",
   "name": "python3"
  },
  "language_info": {
   "codemirror_mode": {
    "name": "ipython",
    "version": 3
   },
   "file_extension": ".py",
   "mimetype": "text/x-python",
   "name": "python",
   "nbconvert_exporter": "python",
   "pygments_lexer": "ipython3",
   "version": "3.10.12"
  },
  "orig_nbformat": 4,
  "vscode": {
   "interpreter": {
    "hash": "916dbcbb3f70747c44a77c7bcd40155683ae19c65e1c03b4aa3499c5328201f1"
   }
  }
 },
 "nbformat": 4,
 "nbformat_minor": 2
}
