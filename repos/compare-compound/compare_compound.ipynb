{
 "cells": [
  {
   "cell_type": "markdown",
   "metadata": {},
   "source": [
    "1. collect data from repositories\n",
    "2. pre-process data\n",
    "3. sentiment analysis from both repositories\n",
    "4. compare compound comments "
   ]
  },
  {
   "cell_type": "code",
   "execution_count": 17,
   "metadata": {},
   "outputs": [
    {
     "data": {
      "text/plain": [
       "True"
      ]
     },
     "execution_count": 17,
     "metadata": {},
     "output_type": "execute_result"
    }
   ],
   "source": [
    "import requests\n",
    "from nltk.sentiment import SentimentIntensityAnalyzer\n",
    "import matplotlib.pyplot as plt\n",
    "from dotenv import load_dotenv\n",
    "from nltk.corpus import stopwords\n",
    "from nltk.tokenize import word_tokenize\n",
    "import nltk\n",
    "import os\n",
    "\n",
    "\n",
    "load_dotenv()"
   ]
  },
  {
   "cell_type": "code",
   "execution_count": 58,
   "metadata": {},
   "outputs": [],
   "source": [
    "token = os.getenv('github_token')\n",
    "\n",
    "owner_linux = 'torvalds'\n",
    "repo_linux = 'linux'\n",
    "\n",
    "owner_liferay = 'liferay'\n",
    "repo_liferay = 'liferay-portal'\n",
    "\n",
    "owner_tensorflow = 'tensorflow'\n",
    "repo_tensorflow = 'tensorflow'"
   ]
  },
  {
   "cell_type": "markdown",
   "metadata": {},
   "source": [
    "GET PR WITH COMMENTS - LINUX"
   ]
  },
  {
   "cell_type": "code",
   "execution_count": 19,
   "metadata": {},
   "outputs": [
    {
     "name": "stdout",
     "output_type": "stream",
     "text": [
      "0 765\n",
      "1 753\n"
     ]
    }
   ],
   "source": [
    "url_to_get_prs_number = f'https://api.github.com/repos/{owner_linux}/{repo_linux}/pulls?q=mergeable:conflicting'\n",
    "headers = {'Authorization': f'token {token}'}\n",
    "response = requests.get(url_to_get_prs_number, headers=headers)\n",
    "prs = response.json()\n",
    "pr_with_comments_linux = []\n",
    "\n",
    "for pr_number in prs:\n",
    "    url_to_get_pr_comments = f'https://api.github.com/repos/{owner_linux}/{repo_linux}/pulls/{pr_number[\"number\"]}/comments'\n",
    "    response = requests.get(url_to_get_pr_comments, headers=headers)\n",
    "    pr_comments = response.json()\n",
    "    \n",
    "    if pr_comments: \n",
    "        pr_with_comments_linux.append(pr_number[\"number\"])\n",
    "\n",
    "for index, pr_number in enumerate(pr_with_comments_linux):\n",
    "    print(index, pr_number)"
   ]
  },
  {
   "cell_type": "markdown",
   "metadata": {},
   "source": [
    "GET PR WITH COMMENTS - LIFERAY-PORTAL"
   ]
  },
  {
   "cell_type": "code",
   "execution_count": 22,
   "metadata": {},
   "outputs": [
    {
     "name": "stdout",
     "output_type": "stream",
     "text": [
      "0 5469\n"
     ]
    }
   ],
   "source": [
    "url_to_get_prs_number = f'https://api.github.com/repos/{owner_liferay}/{repo_liferay}/pulls?q=mergeable:conflicting'\n",
    "headers = {'Authorization': f'token {token}'}\n",
    "response = requests.get(url_to_get_prs_number, headers=headers)\n",
    "prs = response.json()\n",
    "pr_with_comments_liferay = []\n",
    "\n",
    "for pr_number in prs:\n",
    "    url_to_get_pr_comments = f'https://api.github.com/repos/{owner_liferay}/{repo_liferay}/pulls/{pr_number[\"number\"]}/comments'\n",
    "    response = requests.get(url_to_get_pr_comments, headers=headers)\n",
    "    pr_comments = response.json()\n",
    "    \n",
    "    if pr_comments: \n",
    "        pr_with_comments_liferay.append(pr_number[\"number\"])\n",
    "\n",
    "for index, pr_number in enumerate(pr_with_comments_liferay):\n",
    "    print(index, pr_number)"
   ]
  },
  {
   "cell_type": "markdown",
   "metadata": {},
   "source": [
    "GET PR WITH COMMENTS - TENSORFLOW"
   ]
  },
  {
   "cell_type": "code",
   "execution_count": 60,
   "metadata": {},
   "outputs": [
    {
     "name": "stdout",
     "output_type": "stream",
     "text": [
      "0 61682\n",
      "1 61640\n",
      "2 61632\n",
      "3 61597\n",
      "4 61591\n",
      "5 61583\n",
      "6 61497\n",
      "7 61491\n"
     ]
    }
   ],
   "source": [
    "url_to_get_prs_number = f'https://api.github.com/repos/{owner_tensorflow}/{repo_tensorflow}/pulls?q=mergeable:conflicting'\n",
    "headers = {'Authorization': f'token {token}'}\n",
    "response = requests.get(url_to_get_prs_number, headers=headers)\n",
    "prs = response.json()\n",
    "pr_with_comments_tensorflow = []\n",
    "\n",
    "for pr_number in prs:\n",
    "    url_to_get_pr_comments = f'https://api.github.com/repos/{owner_tensorflow}/{repo_tensorflow}/pulls/{pr_number[\"number\"]}/comments'\n",
    "    response = requests.get(url_to_get_pr_comments, headers=headers)\n",
    "    pr_comments = response.json()\n",
    "    \n",
    "    if pr_comments: \n",
    "        pr_with_comments_tensorflow.append(pr_number[\"number\"])\n",
    "\n",
    "for index, pr_number in enumerate(pr_with_comments_tensorflow):\n",
    "    print(index, pr_number)"
   ]
  },
  {
   "cell_type": "markdown",
   "metadata": {},
   "source": [
    "GET COMMENTS - LINUX"
   ]
  },
  {
   "cell_type": "code",
   "execution_count": 56,
   "metadata": {},
   "outputs": [
    {
     "name": "stdout",
     "output_type": "stream",
     "text": [
      "['Useless space', 'fix', 'Left one space decor', \"> cuming Yeah , 'd doubt 'll put Christmas stuff Linux .\"]\n"
     ]
    },
    {
     "name": "stderr",
     "output_type": "stream",
     "text": [
      "[nltk_data] Downloading package punkt to\n",
      "[nltk_data]     /home/joao.machado/nltk_data...\n",
      "[nltk_data]   Package punkt is already up-to-date!\n",
      "[nltk_data] Downloading package stopwords to\n",
      "[nltk_data]     /home/joao.machado/nltk_data...\n",
      "[nltk_data]   Package stopwords is already up-to-date!\n"
     ]
    }
   ],
   "source": [
    "url_to_get_pr_comments = f'https://api.github.com/repos/{owner_linux}/{repo_linux}/pulls/{pr_with_comments_linux[0]}/comments'\n",
    "\n",
    "headers = {'Authorization': f'token {token}'}\n",
    "\n",
    "response = requests.get(url_to_get_pr_comments, headers=headers)\n",
    "\n",
    "prs_linux = response.json()\n",
    "\n",
    "bodies = [comment['body'] for comment in prs_linux]\n",
    "\n",
    "nltk.download('punkt')\n",
    "nltk.download('stopwords')\n",
    "stop_words = set(stopwords.words('english'))\n",
    "\n",
    "all_comments = []\n",
    "cleaned_bodies_linux = []\n",
    "\n",
    "for body in bodies:\n",
    "    cleaned_words = [word for word in word_tokenize(body) if word.lower() not in stop_words]\n",
    "    cleaned_comment = ' '.join(cleaned_words)  \n",
    "    cleaned_bodies_linux.append(cleaned_comment)  \n",
    "    all_comments.extend(cleaned_words)\n",
    "\n",
    "print(cleaned_bodies_linux)"
   ]
  },
  {
   "cell_type": "markdown",
   "metadata": {},
   "source": [
    "GET COMMENTS - LIFERAY-PORTAL"
   ]
  },
  {
   "cell_type": "code",
   "execution_count": 30,
   "metadata": {},
   "outputs": [
    {
     "name": "stdout",
     "output_type": "stream",
     "text": [
      "['get lazy initialization instead creating ` useEffect ` . `` ` jsx const [ value , setValue ] = useState ( ( ) = > getSettingValue ( defaultValue , sessionClicksValue , key ) ) ; `` `', 'Maybe add directly Clay , pressing ` Enter ` call ` onToggle ` callback .', \"could wrong think ` Liferay.detach ` remove listener based function reference , create anonymous function 's different reference ` onOpenChange ` security think best would create named function inside ` useEffect ` pass ` Liferay.on ` ` Liferay.detach ` method .\", \"Would n't better check ` sessionClicksValue === undefined ` ` typeof sessionClicksValue === 'undefined ' ` ? would purpose ` SETTINGS_STRING_VALUES_MAP ` ?\", 'think checking ` localStorageValue ! == null ` would enough need ` SETTINGS_STRING_VALUES_MAP ` . could return value ` defaultValue ` ` localStorageValue ` instead using constant ` SETTINGS_STRING_VALUES_MAP ` .', \"Well , since toggle form element , pressing enter focused inside form submit form . 's case 's form want immediately save setting makes sense toggle 'Enter ' .\", \"Thanks @ matuzalemsteles ! 's meant . Good catch ! 😄\", 'Hey @ ethib137 , point view , method part ` AccessibilitySetting ` implementation ( ` AccessibilitySetting ` impl know enabled ) . suggestion move ` _isSettingEnabled ` ` AccessibilitySetting ` class name method ` isEnabled ` . Another thing use ` GetterUtil.getBoolean ` instead ` Boolean.getBoolean ` . Thx', 'Hey @ ethib137 , avoid chained calls expression . Thx', 'Hey @ ethib137 , according usages ` defaultValue ` boolean . Could please use boolean type ? Thx', \"Hey @ ethib137 , think using constructor better fit use case . building AccessibilitySetting becomes complex may apply Builder pattern . , , let 's go constructor . constructor look like one . `` ` public AccessibilitySetting ( String className , boolean defaultValue , String label , String key , String sessionClicksValue ) { // Initilize variables ... } `` ` Thx\", 'Hey @ ethib137 , please use ` JSONUtil.toJSONArray ` instead jackson ObjectMapper . use case using JSONUtil enough . end , code look like : `` ` public JSONArray getAccessibilitySettingsJSONArray ( ) { return JSONUtil.toJSONArray ( AccessibilitySettingsUtil.getAccessibilitySettings ( _httpServletRequest ) , accessibilitySetting - > { //blablabla } ) } `` ` example https : //github.com/liferay/liferay-portal/blob/master/modules/apps/frontend-data-set/frontend-data-set-views-web/src/main/java/com/liferay/frontend/data/set/views/web/internal/display/context/FDSViewsDisplayContext.java # L52-L66', \"change , 'll able remove jackson annotations AccessibilitySetting class well .\", \"Thanks @ rafaprax , need make boxed Boolean need value indicates sessionClicksValue set user . Boxed boolean let use null . need frontend sessionClicksValue set try get localStorage value , 's set set defaultValue . Let know think better way handle .\", 'Makes sense ! Thanks !', 'Sounds good .. thanks .', 'Makes sense .', \"Yep , able rework get rid SETTINGS_STRING_VALUES_MAP . Initially found complex sessionClicks returns string , 'm able process backend make simpler frontend us . Thanks .\", '.', '> AccessibilitySetting impl know enabled @ rafaprax mean interface impl AccessibilitySetting ? , deciding criteria use interface impl class ? Thanks !', 'Sounds good . Thanks !', \"Hey @ ethib137 , current AccessibilitySetting class enough . mentioned 'impl ' referring current class implementation .\", 'Yeah makes sense']\n"
     ]
    },
    {
     "name": "stderr",
     "output_type": "stream",
     "text": [
      "[nltk_data] Downloading package punkt to\n",
      "[nltk_data]     /home/joao.machado/nltk_data...\n",
      "[nltk_data]   Package punkt is already up-to-date!\n",
      "[nltk_data] Downloading package stopwords to\n",
      "[nltk_data]     /home/joao.machado/nltk_data...\n",
      "[nltk_data]   Package stopwords is already up-to-date!\n"
     ]
    }
   ],
   "source": [
    "url_to_get_pr_comments = f'https://api.github.com/repos/{owner_liferay}/{repo_liferay}/pulls/{pr_with_comments_liferay[0]}/comments'\n",
    "\n",
    "headers = {'Authorization': f'token {token}'}\n",
    "\n",
    "response = requests.get(url_to_get_pr_comments, headers=headers)\n",
    "\n",
    "prs = response.json()\n",
    "\n",
    "bodies = [comment['body'] for comment in prs]\n",
    "\n",
    "nltk.download('punkt')\n",
    "nltk.download('stopwords')\n",
    "stop_words = set(stopwords.words('english'))\n",
    "\n",
    "all_comments = []\n",
    "cleaned_bodies_liferay = []\n",
    "\n",
    "for body in bodies:\n",
    "    cleaned_words = [word for word in word_tokenize(body) if word.lower() not in stop_words]\n",
    "    cleaned_comment = ' '.join(cleaned_words)  \n",
    "    cleaned_bodies_liferay.append(cleaned_comment)  \n",
    "    all_comments.extend(cleaned_words)\n",
    "\n",
    "print(cleaned_bodies_liferay)"
   ]
  },
  {
   "cell_type": "markdown",
   "metadata": {},
   "source": [
    "GET COMMENTS - TENSORFLOW"
   ]
  },
  {
   "cell_type": "code",
   "execution_count": 70,
   "metadata": {},
   "outputs": [
    {
     "name": "stdout",
     "output_type": "stream",
     "text": [
      "['need add dependency BUILD file math_grad', 'need add dependency BUILD file embedding_ops', 'Done', 'Done', 'Thanks', 'tests failing line . `` ` TypeError : Converting ShardedVariable tensor embedding lookup ops disallowed . `` ` example , ` //tensorflow/python/distribute : sharded_variable_test `', \"'ve pushed change fix , test setup broken right ca n't confirm locally .\", 'Ack , pull check end , thanks !', 'Unfortunately creates circular dependency `` ` embedding_ops -- > shared_variable -- > embedding_ops `` `', 'Could use ` core.Tensor ` ` composite_tensor.CompositeTensor ` ? cover two cases , . , ` tensor_util.is_tf_type ( x ) ` function covers types .', \"Thanks , ` is_tf_type ` n't work first suggestion . got test pass . ( Also rebased fix merge conflict ) .\"]\n"
     ]
    },
    {
     "name": "stderr",
     "output_type": "stream",
     "text": [
      "[nltk_data] Downloading package punkt to\n",
      "[nltk_data]     /home/joao.machado/nltk_data...\n",
      "[nltk_data]   Package punkt is already up-to-date!\n",
      "[nltk_data] Downloading package stopwords to\n",
      "[nltk_data]     /home/joao.machado/nltk_data...\n",
      "[nltk_data]   Package stopwords is already up-to-date!\n"
     ]
    }
   ],
   "source": [
    "url_to_get_pr_comments = f'https://api.github.com/repos/{owner_tensorflow}/{repo_tensorflow}/pulls/{pr_with_comments_tensorflow[7]}/comments'\n",
    "\n",
    "headers = {'Authorization': f'token {token}'}\n",
    "\n",
    "response = requests.get(url_to_get_pr_comments, headers=headers)\n",
    "\n",
    "prs = response.json()\n",
    "\n",
    "bodies = [comment['body'] for comment in prs]\n",
    "\n",
    "nltk.download('punkt')\n",
    "nltk.download('stopwords')\n",
    "stop_words = set(stopwords.words('english'))\n",
    "\n",
    "all_comments = []\n",
    "cleaned_bodies_tensorflow = []\n",
    "\n",
    "for body in bodies:\n",
    "    cleaned_words = [word for word in word_tokenize(body) if word.lower() not in stop_words]\n",
    "    cleaned_comment = ' '.join(cleaned_words)  \n",
    "    cleaned_bodies_tensorflow.append(cleaned_comment)  \n",
    "    all_comments.extend(cleaned_words)\n",
    "\n",
    "print(cleaned_bodies_tensorflow)"
   ]
  },
  {
   "cell_type": "markdown",
   "metadata": {},
   "source": [
    "COMPARE COMPOUND SENTIMENT BETWEEN LIFERAY, LINUX AND TENSORFLOW"
   ]
  },
  {
   "cell_type": "code",
   "execution_count": 52,
   "metadata": {},
   "outputs": [
    {
     "data": {
      "image/png": "[encoded data removed]",
      "text/plain": [
       "<Figure size 640x480 with 1 Axes>"
      ]
     },
     "metadata": {},
     "output_type": "display_data"
    }
   ],
   "source": [
    "\n",
    "sentiment_compounds_liferay = []\n",
    "\n",
    "for pr_comment in cleaned_bodies_liferay:\n",
    "    sia = SentimentIntensityAnalyzer()\n",
    "    sentiment = sia.polarity_scores(pr_comment)\n",
    "    sentiment_compound = sentiment['compound']\n",
    "    sentiment_compounds_liferay.append(sentiment_compound)\n",
    "\n",
    "# Índices correspondentes aos sentiment_compounds\n",
    "indices_liferay = range(len(cleaned_bodies_liferay))\n",
    "\n",
    "# Criando o gráfico de barras\n",
    "plt.bar(indices_liferay, sentiment_compounds_liferay, color='blue')\n",
    "\n",
    "# Adicionando rótulos e título\n",
    "plt.xlabel('Índices')\n",
    "plt.ylabel('Compound score')\n",
    "plt.title('Sentiment Compound Scores | liferay-portal')\n",
    "\n",
    "# Definindo rótulos dos índices no eixo x\n",
    "plt.xticks(indices_liferay, [i for i in indices_liferay])\n",
    "\n",
    "# Exibindo o gráfico\n",
    "plt.tight_layout()\n",
    "plt.show()"
   ]
  },
  {
   "cell_type": "code",
   "execution_count": 57,
   "metadata": {},
   "outputs": [
    {
     "name": "stdout",
     "output_type": "stream",
     "text": [
      "['Useless space', 'fix', 'Left one space decor', \"> cuming Yeah , 'd doubt 'll put Christmas stuff Linux .\"]\n"
     ]
    },
    {
     "data": {
      "image/png": "[encoded data removed]",
      "text/plain": [
       "<Figure size 640x480 with 1 Axes>"
      ]
     },
     "metadata": {},
     "output_type": "display_data"
    }
   ],
   "source": [
    "sentiment_compounds_linux = []\n",
    "for pr_comment in cleaned_bodies_linux:\n",
    "    sia = SentimentIntensityAnalyzer()\n",
    "    sentiment = sia.polarity_scores(pr_comment)\n",
    "    sentiment_compound = sentiment['compound']\n",
    "    sentiment_compounds_linux.append(sentiment_compound)\n",
    "\n",
    "# Índices correspondentes aos sentiment_compounds\n",
    "indices = range(len(cleaned_bodies_linux))\n",
    "\n",
    "# Criando o gráfico de barras\n",
    "plt.bar(indices, sentiment_compounds_linux, color='blue')\n",
    "\n",
    "# Adicionando rótulos e título\n",
    "plt.xlabel('Índices')\n",
    "plt.ylabel('Compound score')\n",
    "plt.title('Sentiment Compound Scores | linux')\n",
    "\n",
    "# Definindo rótulos dos índices no eixo x\n",
    "plt.xticks(indices, [i for i in indices])\n",
    "\n",
    "# Exibindo o gráfico\n",
    "plt.tight_layout()\n",
    "plt.show()\n"
   ]
  },
  {
   "cell_type": "code",
   "execution_count": 71,
   "metadata": {},
   "outputs": [
    {
     "data": {
      "image/png": "[encoded data removed]",
      "text/plain": [
       "<Figure size 640x480 with 1 Axes>"
      ]
     },
     "metadata": {},
     "output_type": "display_data"
    }
   ],
   "source": [
    "sentiment_compounds_tensorflow = []\n",
    "for pr_comment in cleaned_bodies_tensorflow:\n",
    "    sia = SentimentIntensityAnalyzer()\n",
    "    sentiment = sia.polarity_scores(pr_comment)\n",
    "    sentiment_compound = sentiment['compound']\n",
    "    sentiment_compounds_tensorflow.append(sentiment_compound)\n",
    "\n",
    "# Índices correspondentes aos sentiment_compounds\n",
    "indices = range(len(cleaned_bodies_tensorflow))\n",
    "\n",
    "# Criando o gráfico de barras\n",
    "plt.bar(indices, sentiment_compounds_tensorflow, color='blue')\n",
    "\n",
    "# Adicionando rótulos e título\n",
    "plt.xlabel('Índices')\n",
    "plt.ylabel('Compound score')\n",
    "plt.title('Sentiment Compound Scores | tensorflow')\n",
    "\n",
    "# Definindo rótulos dos índices no eixo x\n",
    "plt.xticks(indices, [i for i in indices])\n",
    "\n",
    "# Exibindo o gráfico\n",
    "plt.tight_layout()\n",
    "plt.show()"
   ]
  }
 ],
 "metadata": {
  "kernelspec": {
   "display_name": "Python 3.10.12 64-bit",
   "language": "python",
   "name": "python3"
  },
  "language_info": {
   "codemirror_mode": {
    "name": "ipython",
    "version": 3
   },
   "file_extension": ".py",
   "mimetype": "text/x-python",
   "name": "python",
   "nbconvert_exporter": "python",
   "pygments_lexer": "ipython3",
   "version": "3.10.12"
  },
  "orig_nbformat": 4,
  "vscode": {
   "interpreter": {
    "hash": "916dbcbb3f70747c44a77c7bcd40155683ae19c65e1c03b4aa3499c5328201f1"
   }
  }
 },
 "nbformat": 4,
 "nbformat_minor": 2
}
