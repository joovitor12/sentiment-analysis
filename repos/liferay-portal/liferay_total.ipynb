{
 "cells": [
  {
   "cell_type": "markdown",
   "metadata": {},
   "source": [
    "Importing libraries "
   ]
  },
  {
   "cell_type": "code",
   "execution_count": 9,
   "metadata": {},
   "outputs": [
    {
     "name": "stderr",
     "output_type": "stream",
     "text": [
      "[nltk_data] Error loading vader-lexicon: Package 'vader-lexicon' not\n",
      "[nltk_data]     found in index\n"
     ]
    },
    {
     "data": {
      "text/plain": [
       "False"
      ]
     },
     "execution_count": 9,
     "metadata": {},
     "output_type": "execute_result"
    }
   ],
   "source": [
    "import matplotlib.pyplot as plt\n",
    "import get_comments as gc\n",
    "import nltk\n",
    "from nltk.sentiment.vader import SentimentIntensityAnalyzer\n"
   ]
  },
  {
   "cell_type": "markdown",
   "metadata": {},
   "source": [
    "Most used language: Java"
   ]
  },
  {
   "cell_type": "code",
   "execution_count": 10,
   "metadata": {},
   "outputs": [
    {
     "name": "stderr",
     "output_type": "stream",
     "text": [
      "[nltk_data] Downloading package punkt to\n",
      "[nltk_data]     /home/joao.machado/nltk_data...\n",
      "[nltk_data]   Package punkt is already up-to-date!\n",
      "[nltk_data] Downloading package stopwords to\n",
      "[nltk_data]     /home/joao.machado/nltk_data...\n",
      "[nltk_data]   Package stopwords is already up-to-date!\n"
     ]
    },
    {
     "name": "stdout",
     "output_type": "stream",
     "text": [
      "Comment ->  get lazy initialization instead creating ` useEffect ` . `` ` jsx const [ value , setValue ] = useState ( ( ) = > getSettingValue ( defaultValue , sessionClicksValue , key ) ) ; `` `\n",
      "Comment ->  Maybe add directly Clay , pressing ` Enter ` call ` onToggle ` callback .\n",
      "Comment ->  could wrong think ` Liferay.detach ` remove listener based function reference , create anonymous function 's different reference ` onOpenChange ` security think best would create named function inside ` useEffect ` pass ` Liferay.on ` ` Liferay.detach ` method .\n",
      "Comment ->  Would n't better check ` sessionClicksValue === undefined ` ` typeof sessionClicksValue === 'undefined ' ` ? would purpose ` SETTINGS_STRING_VALUES_MAP ` ?\n",
      "Comment ->  think checking ` localStorageValue ! == null ` would enough need ` SETTINGS_STRING_VALUES_MAP ` . could return value ` defaultValue ` ` localStorageValue ` instead using constant ` SETTINGS_STRING_VALUES_MAP ` .\n",
      "Comment ->  Well , since toggle form element , pressing enter focused inside form submit form . 's case 's form want immediately save setting makes sense toggle 'Enter ' .\n",
      "Comment ->  Thanks @ matuzalemsteles ! 's meant . Good catch ! 😄\n",
      "Comment ->  Hey @ ethib137 , point view , method part ` AccessibilitySetting ` implementation ( ` AccessibilitySetting ` impl know enabled ) . suggestion move ` _isSettingEnabled ` ` AccessibilitySetting ` class name method ` isEnabled ` . Another thing use ` GetterUtil.getBoolean ` instead ` Boolean.getBoolean ` . Thx\n",
      "Comment ->  Hey @ ethib137 , avoid chained calls expression . Thx\n",
      "Comment ->  Hey @ ethib137 , according usages ` defaultValue ` boolean . Could please use boolean type ? Thx\n",
      "Comment ->  Hey @ ethib137 , think using constructor better fit use case . building AccessibilitySetting becomes complex may apply Builder pattern . , , let 's go constructor . constructor look like one . `` ` public AccessibilitySetting ( String className , boolean defaultValue , String label , String key , String sessionClicksValue ) { // Initilize variables ... } `` ` Thx\n",
      "Comment ->  Hey @ ethib137 , please use ` JSONUtil.toJSONArray ` instead jackson ObjectMapper . use case using JSONUtil enough . end , code look like : `` ` public JSONArray getAccessibilitySettingsJSONArray ( ) { return JSONUtil.toJSONArray ( AccessibilitySettingsUtil.getAccessibilitySettings ( _httpServletRequest ) , accessibilitySetting - > { //blablabla } ) } `` ` example https : //github.com/liferay/liferay-portal/blob/master/modules/apps/frontend-data-set/frontend-data-set-views-web/src/main/java/com/liferay/frontend/data/set/views/web/internal/display/context/FDSViewsDisplayContext.java # L52-L66\n",
      "Comment ->  change , 'll able remove jackson annotations AccessibilitySetting class well .\n",
      "Comment ->  Thanks @ rafaprax , need make boxed Boolean need value indicates sessionClicksValue set user . Boxed boolean let use null . need frontend sessionClicksValue set try get localStorage value , 's set set defaultValue . Let know think better way handle .\n",
      "Comment ->  Makes sense ! Thanks !\n",
      "Comment ->  Sounds good .. thanks .\n",
      "Comment ->  Makes sense .\n",
      "Comment ->  Yep , able rework get rid SETTINGS_STRING_VALUES_MAP . Initially found complex sessionClicks returns string , 'm able process backend make simpler frontend us . Thanks .\n",
      "Comment ->  .\n",
      "Comment ->  > AccessibilitySetting impl know enabled @ rafaprax mean interface impl AccessibilitySetting ? , deciding criteria use interface impl class ? Thanks !\n",
      "Comment ->  Sounds good . Thanks !\n",
      "Comment ->  Hey @ ethib137 , current AccessibilitySetting class enough . mentioned 'impl ' referring current class implementation .\n",
      "Comment ->  Yeah makes sense\n",
      "Total Compound ->  9.6207\n",
      "Total Positive ->  6.212\n",
      "Total Negative ->  0.602\n",
      "Total Neutral ->  15.186\n"
     ]
    },
    {
     "data": {
      "image/png": "[encoded data removed]",
      "text/plain": [
       "<Figure size 640x480 with 1 Axes>"
      ]
     },
     "metadata": {},
     "output_type": "display_data"
    }
   ],
   "source": [
    "owner = 'liferay'\n",
    "repo = 'liferay-portal'\n",
    "\n",
    "pr_comments = gc.get_comments(owner, repo)\n",
    "\n",
    "total_compound = 0\n",
    "total_positive = 0\n",
    "total_negative = 0\n",
    "total_neutral = 0\n",
    "\n",
    "for pr_comment in pr_comments:\n",
    "    sia = SentimentIntensityAnalyzer()\n",
    "    sentiment = sia.polarity_scores(pr_comment)\n",
    "    sentiment_compound = sentiment['compound']\n",
    "    sentiment_positive = sentiment['pos']\n",
    "    sentiment_negative = sentiment['neg']\n",
    "    sentiment_neutral = sentiment['neu']\n",
    "    total_compound += sentiment_compound\n",
    "    total_positive += sentiment_positive\n",
    "    total_negative += sentiment_negative\n",
    "    total_neutral += sentiment_neutral\n",
    "    print('Comment -> ', pr_comment)\n",
    "\n",
    "print('Total Compound -> ', total_compound)\n",
    "print('Total Positive -> ', total_positive)\n",
    "print('Total Negative -> ', total_negative)\n",
    "print('Total Neutral -> ', total_neutral)\n",
    "\n",
    "labels = ['Positive','Neutral','Negative', 'Compound']\t\n",
    "scores = [total_positive,total_neutral ,total_negative, total_compound]\t\n",
    "\n",
    "plt.bar(labels, scores)\n",
    "plt.ylabel('Scores')\n",
    "plt.title('Sentiment Analysis of PR Comments - Liferay')\n",
    "plt.show()\n",
    "\n"
   ]
  }
 ],
 "metadata": {
  "kernelspec": {
   "display_name": "Python 3.10.6 64-bit",
   "language": "python",
   "name": "python3"
  },
  "language_info": {
   "codemirror_mode": {
    "name": "ipython",
    "version": 3
   },
   "file_extension": ".py",
   "mimetype": "text/x-python",
   "name": "python",
   "nbconvert_exporter": "python",
   "pygments_lexer": "ipython3",
   "version": "3.10.12"
  },
  "orig_nbformat": 4,
  "vscode": {
   "interpreter": {
    "hash": "916dbcbb3f70747c44a77c7bcd40155683ae19c65e1c03b4aa3499c5328201f1"
   }
  }
 },
 "nbformat": 4,
 "nbformat_minor": 2
}
