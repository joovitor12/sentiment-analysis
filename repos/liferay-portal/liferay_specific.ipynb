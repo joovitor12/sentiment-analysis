{
 "cells": [
  {
   "cell_type": "code",
   "execution_count": 48,
   "metadata": {},
   "outputs": [
    {
     "data": {
      "text/plain": [
       "True"
      ]
     },
     "execution_count": 48,
     "metadata": {},
     "output_type": "execute_result"
    }
   ],
   "source": [
    "import requests\n",
    "from nltk.sentiment import SentimentIntensityAnalyzer\n",
    "import matplotlib.pyplot as plt\n",
    "from dotenv import load_dotenv\n",
    "from nltk.corpus import stopwords\n",
    "from nltk.tokenize import word_tokenize\n",
    "import nltk\n",
    "import os\n",
    "\n",
    "\n",
    "load_dotenv()"
   ]
  },
  {
   "cell_type": "code",
   "execution_count": 49,
   "metadata": {},
   "outputs": [],
   "source": [
    "owner = 'liferay'\n",
    "repo = 'liferay-portal'\n",
    "token = os.getenv('github_token')\n"
   ]
  },
  {
   "cell_type": "code",
   "execution_count": 50,
   "metadata": {},
   "outputs": [
    {
     "name": "stdout",
     "output_type": "stream",
     "text": [
      "0 5602\n",
      "1 5598\n",
      "2 5592\n",
      "3 5587\n",
      "4 5552\n",
      "5 5524\n",
      "6 5514\n",
      "7 5475\n",
      "8 5474\n",
      "9 5473\n",
      "10 5472\n",
      "11 5471\n",
      "12 5469\n",
      "13 5461\n",
      "14 5453\n",
      "15 5434\n",
      "16 5433\n",
      "17 5422\n",
      "18 5420\n",
      "19 5406\n",
      "20 5395\n",
      "21 5390\n",
      "22 5371\n",
      "23 5344\n",
      "24 5300\n",
      "25 5299\n",
      "26 5298\n",
      "27 5293\n",
      "28 5292\n",
      "29 5274\n"
     ]
    }
   ],
   "source": [
    "url_to_get_prs_number = f'https://api.github.com/repos/{owner}/{repo}/pulls?q=mergeable:conflicting'\n",
    "\n",
    "headers = {'Authorization': f'token {token}'}\n",
    "\n",
    "\n",
    "response = requests.get(url_to_get_prs_number, headers=None)\n",
    "\n",
    "prs = response.json()\n",
    "\n",
    "pr_numbers = [pr_number['number'] for pr_number in prs]\n",
    "\n",
    "for index, pr_number in enumerate(pr_numbers):\n",
    "    print(index, pr_number)"
   ]
  },
  {
   "cell_type": "code",
   "execution_count": 51,
   "metadata": {},
   "outputs": [
    {
     "name": "stdout",
     "output_type": "stream",
     "text": [
      "['get lazy initialization instead creating ` useEffect ` . `` ` jsx const [ value , setValue ] = useState ( ( ) = > getSettingValue ( defaultValue , sessionClicksValue , key ) ) ; `` `', 'Maybe add directly Clay , pressing ` Enter ` call ` onToggle ` callback .', \"could wrong think ` Liferay.detach ` remove listener based function reference , create anonymous function 's different reference ` onOpenChange ` security think best would create named function inside ` useEffect ` pass ` Liferay.on ` ` Liferay.detach ` method .\", \"Would n't better check ` sessionClicksValue === undefined ` ` typeof sessionClicksValue === 'undefined ' ` ? would purpose ` SETTINGS_STRING_VALUES_MAP ` ?\", 'think checking ` localStorageValue ! == null ` would enough need ` SETTINGS_STRING_VALUES_MAP ` . could return value ` defaultValue ` ` localStorageValue ` instead using constant ` SETTINGS_STRING_VALUES_MAP ` .', \"Well , since toggle form element , pressing enter focused inside form submit form . 's case 's form want immediately save setting makes sense toggle 'Enter ' .\", \"Thanks @ matuzalemsteles ! 's meant . Good catch ! 😄\", 'Hey @ ethib137 , point view , method part ` AccessibilitySetting ` implementation ( ` AccessibilitySetting ` impl know enabled ) . suggestion move ` _isSettingEnabled ` ` AccessibilitySetting ` class name method ` isEnabled ` . Another thing use ` GetterUtil.getBoolean ` instead ` Boolean.getBoolean ` . Thx', 'Hey @ ethib137 , avoid chained calls expression . Thx', 'Hey @ ethib137 , according usages ` defaultValue ` boolean . Could please use boolean type ? Thx', \"Hey @ ethib137 , think using constructor better fit use case . building AccessibilitySetting becomes complex may apply Builder pattern . , , let 's go constructor . constructor look like one . `` ` public AccessibilitySetting ( String className , boolean defaultValue , String label , String key , String sessionClicksValue ) { // Initilize variables ... } `` ` Thx\", 'Hey @ ethib137 , please use ` JSONUtil.toJSONArray ` instead jackson ObjectMapper . use case using JSONUtil enough . end , code look like : `` ` public JSONArray getAccessibilitySettingsJSONArray ( ) { return JSONUtil.toJSONArray ( AccessibilitySettingsUtil.getAccessibilitySettings ( _httpServletRequest ) , accessibilitySetting - > { //blablabla } ) } `` ` example https : //github.com/liferay/liferay-portal/blob/master/modules/apps/frontend-data-set/frontend-data-set-views-web/src/main/java/com/liferay/frontend/data/set/views/web/internal/display/context/FDSViewsDisplayContext.java # L52-L66', \"change , 'll able remove jackson annotations AccessibilitySetting class well .\", \"Thanks @ rafaprax , need make boxed Boolean need value indicates sessionClicksValue set user . Boxed boolean let use null . need frontend sessionClicksValue set try get localStorage value , 's set set defaultValue . Let know think better way handle .\", 'Makes sense ! Thanks !', 'Sounds good .. thanks .', 'Makes sense .', \"Yep , able rework get rid SETTINGS_STRING_VALUES_MAP . Initially found complex sessionClicks returns string , 'm able process backend make simpler frontend us . Thanks .\", '.', '> AccessibilitySetting impl know enabled @ rafaprax mean interface impl AccessibilitySetting ? , deciding criteria use interface impl class ? Thanks !', 'Sounds good . Thanks !', \"Hey @ ethib137 , current AccessibilitySetting class enough . mentioned 'impl ' referring current class implementation .\", 'Yeah makes sense']\n"
     ]
    },
    {
     "name": "stderr",
     "output_type": "stream",
     "text": [
      "[nltk_data] Downloading package punkt to\n",
      "[nltk_data]     /home/joao.machado/nltk_data...\n",
      "[nltk_data]   Package punkt is already up-to-date!\n",
      "[nltk_data] Downloading package stopwords to\n",
      "[nltk_data]     /home/joao.machado/nltk_data...\n",
      "[nltk_data]   Package stopwords is already up-to-date!\n"
     ]
    }
   ],
   "source": [
    "url_to_get_pr_comments = f'https://api.github.com/repos/{owner}/{repo}/pulls/{pr_numbers[12]}/comments'\n",
    "\n",
    "headers = {'Authorization': f'token {token}'}\n",
    "\n",
    "response = requests.get(url_to_get_pr_comments, headers=headers)\n",
    "\n",
    "prs = response.json()\n",
    "\n",
    "bodies = [comment['body'] for comment in prs]\n",
    "\n",
    "nltk.download('punkt')\n",
    "nltk.download('stopwords')\n",
    "stop_words = set(stopwords.words('english'))\n",
    "\n",
    "all_comments = []\n",
    "cleaned_bodies = []\n",
    "\n",
    "for body in bodies:\n",
    "    cleaned_words = [word for word in word_tokenize(body) if word.lower() not in stop_words]\n",
    "    cleaned_comment = ' '.join(cleaned_words)  # Junte as palavras em uma única string\n",
    "    cleaned_bodies.append(cleaned_comment)  # Adicione a string à lista\n",
    "    all_comments.extend(cleaned_words)\n",
    "\n",
    "print(cleaned_bodies)\n",
    "\n",
    "\n",
    "\n",
    "#print(all_comments)"
   ]
  },
  {
   "cell_type": "code",
   "execution_count": 52,
   "metadata": {},
   "outputs": [
    {
     "name": "stdout",
     "output_type": "stream",
     "text": [
      "Comment ->  You can get lazy initialization here too instead of creating a `useEffect`.\n",
      "\n",
      "```jsx\n",
      "const [value, setValue] = useState(() => getSettingValue(defaultValue, sessionClicksValue, key));\n",
      "```\n",
      "Sentiment ->  {'neg': 0.105, 'neu': 0.802, 'pos': 0.093, 'compound': -0.0772}\n",
      "-----------------------\n",
      "Comment ->  Maybe we can add this directly into Clay, pressing `Enter` should call the `onToggle` callback.\n",
      "Sentiment ->  {'neg': 0.0, 'neu': 1.0, 'pos': 0.0, 'compound': 0.0}\n",
      "-----------------------\n",
      "Comment ->  I could be wrong but I think `Liferay.detach` will just remove the listener based on the function reference too, as above you create an anonymous function it's a different reference to `onOpenChange` for security I think the best would be to create a named function inside the `useEffect` and pass it to the `Liferay.on` and `Liferay.detach` method.\n",
      "Sentiment ->  {'neg': 0.032, 'neu': 0.743, 'pos': 0.225, 'compound': 0.9209}\n",
      "-----------------------\n",
      "Comment ->  Wouldn't it be better to just check `sessionClicksValue === undefined` or `typeof sessionClicksValue === 'undefined'`? What would be the purpose of `SETTINGS_STRING_VALUES_MAP`?\n",
      "Sentiment ->  {'neg': 0.116, 'neu': 0.884, 'pos': 0.0, 'compound': -0.4149}\n",
      "-----------------------\n",
      "Comment ->  I think just checking `localStorageValue !== null` would be enough to not need `SETTINGS_STRING_VALUES_MAP`.\n",
      "\n",
      "And we could just return the value `defaultValue` or `localStorageValue` instead of using the constant for that `SETTINGS_STRING_VALUES_MAP`.\n",
      "Sentiment ->  {'neg': 0.0, 'neu': 0.918, 'pos': 0.082, 'compound': 0.4003}\n",
      "-----------------------\n",
      "Comment ->  Well, since the toggle is a form element, pressing enter when focused and inside a form should submit the form. It's only in this case where it's not in a form and I want to immediately save the setting that it makes sense to toggle on 'Enter'.\n",
      "Sentiment ->  {'neg': 0.0, 'neu': 0.809, 'pos': 0.191, 'compound': 0.802}\n",
      "-----------------------\n",
      "Comment ->  Thanks @matuzalemsteles! That's what I meant to do. Good catch! 😄 \n",
      "Sentiment ->  {'neg': 0.0, 'neu': 0.523, 'pos': 0.477, 'compound': 0.7494}\n",
      "-----------------------\n",
      "Comment ->  Hey @ethib137, In my point of view, this method should be part of the `AccessibilitySetting` implementation(the `AccessibilitySetting` impl should know when it is enabled or not).\n",
      "\n",
      "My suggestion here is to move the `_isSettingEnabled` to the `AccessibilitySetting` class and name this method `isEnabled`. \n",
      "\n",
      "Another thing is to use the `GetterUtil.getBoolean` instead of the `Boolean.getBoolean`.\n",
      "\n",
      "Thx\n",
      "\n",
      "Sentiment ->  {'neg': 0.0, 'neu': 0.956, 'pos': 0.044, 'compound': 0.3612}\n",
      "-----------------------\n",
      "Comment ->  Hey @ethib137, avoid the chained calls in the if expression. Thx\n",
      "Sentiment ->  {'neg': 0.161, 'neu': 0.657, 'pos': 0.182, 'compound': 0.0772}\n",
      "-----------------------\n",
      "Comment ->  Hey @ethib137, according to the usages of the `defaultValue` it should be a boolean. Could please use the boolean type here?\n",
      "\n",
      "Thx\n",
      "Sentiment ->  {'neg': 0.0, 'neu': 0.798, 'pos': 0.202, 'compound': 0.5859}\n",
      "-----------------------\n",
      "Comment ->  Hey @ethib137, I think using a constructor is a better fit for your use case for now. If the building of an AccessibilitySetting becomes complex we may apply the Builder pattern here. So, for now, let's go with just a constructor.\n",
      "\n",
      "The constructor should look like this one. \n",
      "\n",
      "```\n",
      "\n",
      "public AccessibilitySetting(String className, boolean defaultValue, String label, String key,\n",
      " String sessionClicksValue) {\n",
      "      // Initilize variables here\n",
      "      ...\n",
      "}\n",
      "```\n",
      "\n",
      "Thx\n",
      "\n",
      "Sentiment ->  {'neg': 0.0, 'neu': 0.85, 'pos': 0.15, 'compound': 0.8555}\n",
      "-----------------------\n",
      "Comment ->  Hey @ethib137, please use the `JSONUtil.toJSONArray` instead of the jackson ObjectMapper. For your use case using the JSONUtil is enough. In the end, your code will look like this:\n",
      "```\n",
      "public JSONArray getAccessibilitySettingsJSONArray() {\n",
      "      return JSONUtil.toJSONArray(\n",
      "           AccessibilitySettingsUtil.getAccessibilitySettings(_httpServletRequest),\n",
      "           accessibilitySetting -> {\n",
      "               //blablabla\n",
      "           }\n",
      "      )\n",
      "}\n",
      "```\n",
      "\n",
      "Here is an example https://github.com/liferay/liferay-portal/blob/master/modules/apps/frontend-data-set/frontend-data-set-views-web/src/main/java/com/liferay/frontend/data/set/views/web/internal/display/context/FDSViewsDisplayContext.java#L52-L66\n",
      "Sentiment ->  {'neg': 0.0, 'neu': 0.9, 'pos': 0.1, 'compound': 0.5859}\n",
      "-----------------------\n",
      "Comment ->  With this change, you'll be able to remove the jackson annotations from the AccessibilitySetting class as well.\n",
      "Sentiment ->  {'neg': 0.0, 'neu': 0.884, 'pos': 0.116, 'compound': 0.2732}\n",
      "-----------------------\n",
      "Comment ->  Thanks @rafaprax , I need to make it a boxed Boolean because I need to have a value that indicates that sessionClicksValue has not been set by the user. Boxed boolean will let me use null for that. We need this because on the frontend if sessionClicksValue has not been set we will try to get the localStorage value, then if that's not set we will set it to the defaultValue. \n",
      "\n",
      "Let me know if you think there is a better way to handle this.\n",
      "Sentiment ->  {'neg': 0.0, 'neu': 0.876, 'pos': 0.124, 'compound': 0.8625}\n",
      "-----------------------\n",
      "Comment ->  Makes sense! Thanks!\n",
      "Sentiment ->  {'neg': 0.0, 'neu': 0.365, 'pos': 0.635, 'compound': 0.5399}\n",
      "-----------------------\n",
      "Comment ->  Sounds good.. thanks.\n",
      "Sentiment ->  {'neg': 0.0, 'neu': 0.408, 'pos': 0.592, 'compound': 0.4404}\n",
      "-----------------------\n",
      "Comment ->  Makes sense.\n",
      "Sentiment ->  {'neg': 0.0, 'neu': 1.0, 'pos': 0.0, 'compound': 0.0}\n",
      "-----------------------\n",
      "Comment ->  Yep, I was able to rework this to get rid of SETTINGS_STRING_VALUES_MAP. Initially I found it complex because sessionClicks only returns a string, but I'm able to process that on the backend and make it simpler on the frontend for us. Thanks.\n",
      "Sentiment ->  {'neg': 0.0, 'neu': 0.872, 'pos': 0.128, 'compound': 0.6652}\n",
      "-----------------------\n",
      "Comment ->  Same as above.\n",
      "Sentiment ->  {'neg': 0.0, 'neu': 1.0, 'pos': 0.0, 'compound': 0.0}\n",
      "-----------------------\n",
      "Comment ->  > AccessibilitySetting impl should know when it is enabled or not\n",
      "\n",
      "@rafaprax does this mean I should have an interface and impl for AccessibilitySetting? If so, what is the deciding criteria we use for having an interface and impl over just a class? Thanks!\n",
      "Sentiment ->  {'neg': 0.0, 'neu': 0.918, 'pos': 0.082, 'compound': 0.5502}\n",
      "-----------------------\n",
      "Comment ->  Sounds good. Thanks!\n",
      "Sentiment ->  {'neg': 0.0, 'neu': 0.141, 'pos': 0.859, 'compound': 0.7263}\n",
      "-----------------------\n",
      "Comment ->  Hey @ethib137, the current AccessibilitySetting class is enough. When I mentioned 'impl' I was referring to the current class implementation.\n",
      "Sentiment ->  {'neg': 0.0, 'neu': 1.0, 'pos': 0.0, 'compound': 0.0}\n",
      "-----------------------\n",
      "Comment ->  Yeah it makes sense to me\n",
      "Sentiment ->  {'neg': 0.0, 'neu': 0.694, 'pos': 0.306, 'compound': 0.296}\n",
      "-----------------------\n"
     ]
    }
   ],
   "source": [
    "url_to_get_pr_comments = f'https://api.github.com/repos/{owner}/{repo}/pulls/{pr_numbers[12]}/comments'\n",
    "\n",
    "headers = {'Authorization': f'token {token}'}\n",
    "\n",
    "\n",
    "response = requests.get(url_to_get_pr_comments, headers=None)\n",
    "\n",
    "prs = response.json()\n",
    "\n",
    "pr_comments = [pr_comment['body'] for pr_comment in prs]\n",
    "\n",
    "total_neutral = 0\n",
    "total_positive = 0\n",
    "total_negative = 0\n",
    "total_compound = 0\n",
    "\n",
    "for pr_comment in pr_comments:\n",
    "    sia = SentimentIntensityAnalyzer()\n",
    "    sentiment = sia.polarity_scores(pr_comment)\n",
    "    sentiment_neutral = sentiment['neu']\n",
    "    sentiment_positive = sentiment['pos']\n",
    "    sentiment_negative = sentiment['neg']\n",
    "    sentiment_compound = sentiment['compound']\n",
    "    total_neutral += sentiment_neutral\n",
    "    total_positive += sentiment_positive\n",
    "    total_negative += sentiment_negative\n",
    "    total_compound += sentiment_compound\n",
    "    print('Comment -> ', pr_comment)\n",
    "    print('Sentiment -> ', sentiment)\n",
    "    print('-----------------------')"
   ]
  },
  {
   "cell_type": "code",
   "execution_count": 53,
   "metadata": {},
   "outputs": [
    {
     "name": "stdout",
     "output_type": "stream",
     "text": [
      "Total Neutral ->  17.997999999999998\n",
      "Total Positive ->  4.588\n",
      "Total Negative ->  0.41400000000000003\n",
      "Total Compound ->  9.1999\n"
     ]
    },
    {
     "data": {
      "image/png": "[encoded data removed]",
      "text/plain": [
       "<Figure size 640x480 with 1 Axes>"
      ]
     },
     "metadata": {},
     "output_type": "display_data"
    }
   ],
   "source": [
    "print('Total Neutral -> ', total_neutral)\n",
    "print('Total Positive -> ', total_positive)\n",
    "print('Total Negative -> ', total_negative)\n",
    "print('Total Compound -> ', total_compound)\n",
    "\n",
    "labels = ['Positive', 'Negative', 'Neutral']\t\n",
    "scores = [total_positive, total_negative, total_neutral]\t\n",
    "\n",
    "plt.bar(labels, scores)\n",
    "plt.ylabel('Scores')\n",
    "plt.title('Sentiment Analysis of PR Comments')\n",
    "plt.show()"
   ]
  }
 ],
 "metadata": {
  "kernelspec": {
   "display_name": "Python 3.10.12 64-bit",
   "language": "python",
   "name": "python3"
  },
  "language_info": {
   "codemirror_mode": {
    "name": "ipython",
    "version": 3
   },
   "file_extension": ".py",
   "mimetype": "text/x-python",
   "name": "python",
   "nbconvert_exporter": "python",
   "pygments_lexer": "ipython3",
   "version": "3.10.12"
  },
  "orig_nbformat": 4,
  "vscode": {
   "interpreter": {
    "hash": "916dbcbb3f70747c44a77c7bcd40155683ae19c65e1c03b4aa3499c5328201f1"
   }
  }
 },
 "nbformat": 4,
 "nbformat_minor": 2
}
